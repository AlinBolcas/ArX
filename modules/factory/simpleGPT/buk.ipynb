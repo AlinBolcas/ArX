{
 "cells": [
  {
   "cell_type": "markdown",
   "metadata": {},
   "source": [
    "### Pdf to Txt chunking and no chunking\n",
    "Prepping data"
   ]
  },
  {
   "cell_type": "code",
   "execution_count": null,
   "metadata": {},
   "outputs": [],
   "source": [
    "from langchain_community.document_loaders import PyPDFLoader\n",
    "from langchain.text_splitter import RecursiveCharacterTextSplitter\n",
    "\n",
    "# Load PDF document\n",
    "loader = PyPDFLoader(\"CharlesB2.pdf\")\n",
    "data = loader.load()\n",
    "\n",
    "# Initialize the text splitter\n",
    "text_splitter = RecursiveCharacterTextSplitter(chunk_size=500, chunk_overlap=0)\n",
    "all_splits = text_splitter.split_documents(data)  # Ensure data is in a list if not already\n",
    "\n",
    "# Assuming all_splits is correctly populated with split documents\n",
    "with open(\"buk_all.txt\", \"w\", encoding=\"utf-8\") as text_file:\n",
    "    for split in all_splits:\n",
    "        # Check if the unwanted text is in the current split's content\n",
    "        if \"www.PoemHunter.com - The World's Poetry Archive\" not in split.page_content:\n",
    "            text_file.write(split.page_content)  # Write the chunk if it doesn't contain the unwanted text\n",
    "        else:\n",
    "            # If the unwanted text is found, replace it with an empty string or perform any other cleaning operation\n",
    "            cleaned_content = split.page_content.replace(\"www.PoemHunter.com - The World's Poetry Archive\", \"\")\n",
    "            text_file.write(cleaned_content)\n"
   ]
  },
  {
   "cell_type": "code",
   "execution_count": null,
   "metadata": {},
   "outputs": [],
   "source": [
    "from langchain_community.document_loaders import PyPDFLoader\n",
    "from langchain.text_splitter import RecursiveCharacterTextSplitter\n",
    "\n",
    "# Load PDF document\n",
    "loader = PyPDFLoader(\"Dawn_of_Everything.pdf\")\n",
    "data = loader.load()\n",
    "\n",
    "with open(\"DoE_all.txt\", \"w\", encoding=\"utf-8\") as text_file:\n",
    "    for doc in data:\n",
    "        text_file.write(doc.page_content + \"\\n\\n\")\n"
   ]
  },
  {
   "cell_type": "markdown",
   "metadata": {},
   "source": [
    "### Teaching Snippets"
   ]
  },
  {
   "cell_type": "code",
   "execution_count": 1,
   "metadata": {},
   "outputs": [
    {
     "name": "stdout",
     "output_type": "stream",
     "text": [
      "length of dataset in characters:  99212\n",
      "2 \n",
      "16-bit Intel 8088 chip\n",
      "with an Apple Macintosh\n",
      "you can't run Radio Shack programs\n",
      "in its disc dri\n"
     ]
    }
   ],
   "source": [
    "# read it in to inspect it\n",
    "with open('data/buk_all.txt', 'r', encoding='utf-8') as f:\n",
    "    text = f.read()\n",
    "    \n",
    "print(\"length of dataset in characters: \", len(text))\n",
    "# let's look at the first 1000 characters\n",
    "print(text[:100])"
   ]
  },
  {
   "cell_type": "code",
   "execution_count": 2,
   "metadata": {},
   "outputs": [
    {
     "name": "stdout",
     "output_type": "stream",
     "text": [
      "\n",
      " !\"#$&'(),-./0123456789:;<>?ABCDEFGHIJKLMNOPQRSTUVWYabcdefghijklmnopqrstuvwxyzé—\n",
      "81\n"
     ]
    }
   ],
   "source": [
    "# here are all the unique characters that occur in this text\n",
    "chars = sorted(list(set(text)))\n",
    "vocab_size = len(chars)\n",
    "print(''.join(chars))\n",
    "print(vocab_size)"
   ]
  },
  {
   "cell_type": "code",
   "execution_count": 3,
   "metadata": {},
   "outputs": [
    {
     "name": "stdout",
     "output_type": "stream",
     "text": [
      "[63, 57, 63]\n",
      "lol?\n"
     ]
    }
   ],
   "source": [
    "# create a mapping from characters to integers\n",
    "stoi = { ch:i for i,ch in enumerate(chars) }\n",
    "itos = { i:ch for i,ch in enumerate(chars) }\n",
    "encode = lambda s: [stoi[c] for c in s] # encoder: take a string, output a list of integers\n",
    "decode = lambda l: ''.join([itos[i] for i in l]) # decoder: take a list of integers, output a string\n",
    "\n",
    "print(encode(\"kek\"))\n",
    "print(decode(encode(\"lol?\")))"
   ]
  },
  {
   "cell_type": "code",
   "execution_count": 5,
   "metadata": {},
   "outputs": [
    {
     "name": "stdout",
     "output_type": "stream",
     "text": [
      "torch.Size([99212]) torch.int64\n",
      "tensor([16,  1,  0, 15, 20, 11, 54, 61, 72,  1, 37, 66, 72, 57, 64,  1, 22, 14,\n",
      "        22, 22,  1, 55, 60, 61, 68,  0, 75, 61, 72, 60,  1, 53, 66,  1, 29, 68,\n",
      "        68, 64, 57,  1, 41, 53, 55, 61, 66, 72, 67, 71, 60,  0, 77, 67, 73,  1,\n",
      "        55, 53, 66,  7, 72,  1, 70, 73, 66,  1, 46, 53, 56, 61, 67,  1, 47, 60,\n",
      "        53, 55, 63,  1, 68, 70, 67, 59, 70, 53, 65, 71,  0, 61, 66,  1, 61, 72,\n",
      "        71,  1, 56, 61, 71, 55,  1, 56, 70, 61, 74, 57, 12,  0, 66, 67, 70,  1,\n",
      "        55, 53, 66,  1, 53,  1, 31, 67, 65, 65, 67, 56, 67, 70, 57,  1, 20, 18,\n",
      "         0, 56, 70, 61, 74, 57,  1, 70, 57, 53, 56,  1, 53,  1, 58, 61, 64, 57,\n",
      "         0, 77, 67, 73,  1, 60, 53, 74, 57,  1, 55, 70, 57, 53, 72, 57, 56,  1,\n",
      "        67, 66,  1, 53, 66,  0, 37, 30, 41,  1, 44, 57, 70, 71, 67, 66, 53, 64,\n",
      "         1, 31, 67, 65, 68, 73, 72, 57, 70, 12,  0, 54, 67, 72, 60,  1, 39, 53,\n",
      "        77, 68, 70, 67,  1, 53, 66, 56,  1, 43, 71, 54, 67, 70, 66, 57,  1, 55,\n",
      "        67, 65, 68, 73, 72, 57, 70, 71,  1, 73, 71, 57,  0, 72, 60, 57,  1, 31,\n",
      "        44, 13, 41,  1, 67, 68, 57, 70, 53, 72, 61, 66, 59,  1, 71, 77, 71, 72,\n",
      "        57, 65,  0, 54, 73, 72,  1, 55, 53, 66,  7, 72,  1, 70, 57, 53, 56,  1,\n",
      "        57, 53, 55, 60,  1, 67, 72, 60, 57, 70,  7, 71,  0, 60, 53, 66, 56, 75,\n",
      "        70, 61, 72, 61, 66, 59,  0, 58, 67, 70,  1, 72, 60, 57, 77,  1, 58, 67,\n",
      "        70, 65, 53, 72,  1,  8, 75, 70, 61, 72, 57,  0, 67, 66,  9,  1, 56, 61,\n",
      "        71, 55, 71,  1, 61, 66,  1, 56, 61, 58, 58, 57, 70, 57, 66, 72,  0, 75,\n",
      "        53, 77, 71, 12,  0, 72, 60, 57,  1, 48, 53, 66, 56, 77,  1, 16, 14, 14,\n",
      "        14,  1, 70, 73, 66, 71,  1, 41, 47, 11, 32, 43, 47,  1, 54, 73, 72,  0,\n",
      "        55, 53, 66,  7, 72,  1, 73, 71, 57,  1, 65, 67, 71, 72,  1, 68, 70, 67,\n",
      "        59, 70, 53, 65, 71,  1, 68, 70, 67, 56, 73, 55, 57, 56,  1, 58, 67, 70,\n",
      "         0, 72, 60, 57,  1, 37, 30, 41,  1, 44, 57, 70, 71, 67, 66, 53, 64,  1,\n",
      "        31, 67, 65, 68, 73, 72, 57, 70, 73, 66, 64, 57, 71, 71,  1, 55, 57, 70,\n",
      "        72, 53, 61, 66,  0, 54, 61, 72, 71,  1, 53, 66, 56,  1, 54, 77, 72, 57,\n",
      "        71,  1, 53, 70, 57,  0, 53, 64, 72, 57, 70, 57, 56,  0, 54, 73, 72,  1,\n",
      "        72, 60, 57,  1, 75, 61, 66, 56,  1, 71, 72, 61, 64, 64,  1, 54, 64, 67,\n",
      "        75, 71,  1, 67, 74, 57, 70,  0, 47, 53, 74, 53, 66, 66, 53, 60,  0, 53,\n",
      "        66, 56,  1, 61, 66,  1, 72, 60, 57,  1, 47, 68, 70, 61, 66, 59,  0, 72,\n",
      "        60, 57,  1, 72, 73, 70, 63, 57, 77,  1, 54, 73, 78, 78, 53, 70, 56,  1,\n",
      "        71, 72, 70, 73, 72, 71,  1, 53, 66, 56,  0, 58, 64, 67, 73, 66, 55, 57,\n",
      "        71,  1, 54, 57, 58, 67, 70, 57,  1, 60, 61, 71,  0, 60, 57, 66, 71, 12,\n",
      "         0, 31, 60, 53, 70, 64, 57, 71,  1, 30, 73, 63, 67, 75, 71, 63, 61,  0,\n",
      "        17,  1,  0, 18, 14, 10, 14, 14, 14,  0, 53, 72,  1, 72, 60, 57,  1, 72,\n",
      "        70, 53, 55, 63,  1, 72, 67, 56, 53, 77, 10,  0, 34, 53, 72, 60, 57, 70,\n",
      "         7, 71,  1, 32, 53, 77, 10,  0, 57, 53, 55, 60,  1, 68, 53, 61, 56,  1,\n",
      "        53, 56, 65, 61, 71, 71, 61, 67, 66,  1, 75, 53, 71,  0, 57, 66, 72, 61,\n",
      "        72, 64, 57, 56,  1, 72, 67,  1, 53,  1, 75, 53, 64, 64, 57, 72,  0, 53,\n",
      "        66, 56,  1, 57, 53, 55, 60,  1, 55, 67, 66, 72, 53, 61, 66, 57, 56,  1,\n",
      "        53,  0, 64, 61, 72, 72, 64, 57,  1, 71, 73, 70, 68, 70, 61, 71, 57, 12,\n",
      "         0, 31, 60, 53, 70, 64, 57, 71,  1, 30, 73, 63, 67, 75, 71, 63, 61,  0,\n",
      "        18,  1,  0, 22,  1, 31, 67, 73, 66, 72,  0, 58, 70, 67, 65,  1, 65, 77,\n",
      "         1, 54, 57, 56,  0, 37,  1, 75, 53, 72, 55, 60,  0, 17,  1, 54, 61, 70,\n",
      "        56, 71,  0, 67, 66,  1, 53,  1, 72, 57, 64, 57, 68, 60, 67, 66, 57,  0,\n",
      "        75, 61, 70, 57, 12,  0, 67, 66, 57,  1, 58, 64, 61, 57, 71,  0, 67, 58,\n",
      "        58, 12,  0, 72, 60, 57, 66,  0, 53, 66, 67, 72, 60, 57, 70, 12,  0, 67,\n",
      "        66, 57,  1, 61, 71,  1, 64, 57, 58, 72, 10,  0, 72, 60, 57, 66,  0, 61,\n",
      "        72,  1, 72, 67, 67,  0, 61, 71,  1, 59, 67, 66, 57, 12,  0, 65, 77,  1,\n",
      "        72, 77, 68, 57, 75, 70, 61, 72, 57, 70,  1, 61, 71,  0, 72, 67, 65, 54,\n",
      "        71, 72, 67, 66, 57,  0, 71, 72, 61, 64, 64, 12,  0, 53, 66, 56,  1, 37,\n",
      "         1, 53, 65,  0, 70, 57, 56, 73, 55, 57, 56,  1, 72, 67,  1, 54, 61, 70,\n",
      "        56,  0, 75, 53, 72, 55, 60, 61, 66, 59, 12,  0, 62, 73, 71, 72,  1, 72,\n",
      "        60, 67, 73, 59, 60, 72,  1, 37,  7, 56,  0, 64, 57, 72,  1, 77, 67, 73,\n",
      "         0, 63, 66, 67, 75, 10,  0, 58, 73, 55, 63, 57, 70, 12,  0, 31, 60, 53,\n",
      "        70, 64, 57, 71,  1, 30, 73, 63, 67, 75])\n"
     ]
    }
   ],
   "source": [
    "# let's now encode the entire text dataset and store it into a torch.Tensor\n",
    "import torch # we use PyTorch: https://pytorch.org\n",
    "data = torch.tensor(encode(text), dtype=torch.long)\n",
    "print(data.shape, data.dtype)\n",
    "print(data[:1000]) # the 1000 characters we looked at earier will to the GPT look like this"
   ]
  },
  {
   "cell_type": "code",
   "execution_count": 6,
   "metadata": {},
   "outputs": [],
   "source": [
    "# Let's now split up the data into train and validation sets\n",
    "n = int(0.9*len(data)) # first 90% will be train, rest val\n",
    "train_data = data[:n]\n",
    "val_data = data[n:]"
   ]
  },
  {
   "cell_type": "code",
   "execution_count": 9,
   "metadata": {},
   "outputs": [
    {
     "data": {
      "text/plain": [
       "tensor([16,  1,  0, 15, 20, 11, 54, 61, 72])"
      ]
     },
     "execution_count": 9,
     "metadata": {},
     "output_type": "execute_result"
    }
   ],
   "source": [
    "block_size = 8\n",
    "train_data[:block_size+1]"
   ]
  },
  {
   "cell_type": "code",
   "execution_count": null,
   "metadata": {},
   "outputs": [],
   "source": [
    "x = train_data[:block_size]\n",
    "y = train_data[1:block_size+1]\n",
    "for t in range(block_size):\n",
    "    context = x[:t+1]\n",
    "    target = y[t]\n",
    "    print(f\"when input is {context} the target: {target}\")"
   ]
  },
  {
   "cell_type": "code",
   "execution_count": 8,
   "metadata": {},
   "outputs": [
    {
     "name": "stdout",
     "output_type": "stream",
     "text": [
      "inputs:\n",
      "torch.Size([4, 8])\n",
      "tensor([[57,  1, 72, 60, 67, 71, 57,  1],\n",
      "        [58,  1, 67, 66, 57,  1, 67, 58],\n",
      "        [60, 67, 71, 57,  1, 58, 70, 57],\n",
      "        [53, 70, 57,  1, 56, 53, 54, 54]])\n",
      "targets:\n",
      "torch.Size([4, 8])\n",
      "tensor([[ 1, 72, 60, 67, 71, 57,  1, 75],\n",
      "        [ 1, 67, 66, 57,  1, 67, 58,  1],\n",
      "        [67, 71, 57,  1, 58, 70, 57, 57],\n",
      "        [70, 57,  1, 56, 53, 54, 54, 64]])\n",
      "----\n",
      "when input is [57] the target: 1\n",
      "when input is [57, 1] the target: 72\n",
      "when input is [57, 1, 72] the target: 60\n",
      "when input is [57, 1, 72, 60] the target: 67\n",
      "when input is [57, 1, 72, 60, 67] the target: 71\n",
      "when input is [57, 1, 72, 60, 67, 71] the target: 57\n",
      "when input is [57, 1, 72, 60, 67, 71, 57] the target: 1\n",
      "when input is [57, 1, 72, 60, 67, 71, 57, 1] the target: 75\n",
      "when input is [58] the target: 1\n",
      "when input is [58, 1] the target: 67\n",
      "when input is [58, 1, 67] the target: 66\n",
      "when input is [58, 1, 67, 66] the target: 57\n",
      "when input is [58, 1, 67, 66, 57] the target: 1\n",
      "when input is [58, 1, 67, 66, 57, 1] the target: 67\n",
      "when input is [58, 1, 67, 66, 57, 1, 67] the target: 58\n",
      "when input is [58, 1, 67, 66, 57, 1, 67, 58] the target: 1\n",
      "when input is [60] the target: 67\n",
      "when input is [60, 67] the target: 71\n",
      "when input is [60, 67, 71] the target: 57\n",
      "when input is [60, 67, 71, 57] the target: 1\n",
      "when input is [60, 67, 71, 57, 1] the target: 58\n",
      "when input is [60, 67, 71, 57, 1, 58] the target: 70\n",
      "when input is [60, 67, 71, 57, 1, 58, 70] the target: 57\n",
      "when input is [60, 67, 71, 57, 1, 58, 70, 57] the target: 57\n",
      "when input is [53] the target: 70\n",
      "when input is [53, 70] the target: 57\n",
      "when input is [53, 70, 57] the target: 1\n",
      "when input is [53, 70, 57, 1] the target: 56\n",
      "when input is [53, 70, 57, 1, 56] the target: 53\n",
      "when input is [53, 70, 57, 1, 56, 53] the target: 54\n",
      "when input is [53, 70, 57, 1, 56, 53, 54] the target: 54\n",
      "when input is [53, 70, 57, 1, 56, 53, 54, 54] the target: 64\n"
     ]
    }
   ],
   "source": [
    "torch.manual_seed(1337)\n",
    "batch_size = 4 # how many independent sequences will we process in parallel?\n",
    "block_size = 8 # what is the maximum context length for predictions?\n",
    "\n",
    "def get_batch(split):\n",
    "    # generate a small batch of data of inputs x and targets y\n",
    "    data = train_data if split == 'train' else val_data\n",
    "    ix = torch.randint(len(data) - block_size, (batch_size,))\n",
    "    x = torch.stack([data[i:i+block_size] for i in ix])\n",
    "    y = torch.stack([data[i+1:i+block_size+1] for i in ix])\n",
    "    return x, y\n",
    "\n",
    "xb, yb = get_batch('train')\n",
    "print('inputs:')\n",
    "print(xb.shape)\n",
    "print(xb)\n",
    "print('targets:')\n",
    "print(yb.shape)\n",
    "print(yb)\n",
    "\n",
    "print('----')\n",
    "\n",
    "for b in range(batch_size): # batch dimension\n",
    "    for t in range(block_size): # time dimension\n",
    "        context = xb[b, :t+1]\n",
    "        target = yb[b,t]\n",
    "        print(f\"when input is {context.tolist()} the target: {target}\")"
   ]
  },
  {
   "cell_type": "code",
   "execution_count": 10,
   "metadata": {},
   "outputs": [
    {
     "name": "stdout",
     "output_type": "stream",
     "text": [
      "tensor([[57,  1, 72, 60, 67, 71, 57,  1],\n",
      "        [58,  1, 67, 66, 57,  1, 67, 58],\n",
      "        [60, 67, 71, 57,  1, 58, 70, 57],\n",
      "        [53, 70, 57,  1, 56, 53, 54, 54]])\n"
     ]
    }
   ],
   "source": [
    "print(xb) # our input to the transformer"
   ]
  },
  {
   "cell_type": "code",
   "execution_count": 11,
   "metadata": {},
   "outputs": [
    {
     "name": "stdout",
     "output_type": "stream",
     "text": [
      "torch.Size([32, 81])\n",
      "tensor(5.2911, grad_fn=<NllLossBackward0>)\n",
      "\n",
      "Tk;JaHQA0K6r8.wy3JoeY)R6bLnOuEqd#\"o7UG—L)(3QSM6b ?vSzFr!9:bqFécf :fbEedf4bée/g9:qp0FmP—A3$rw<B950lj'\n"
     ]
    }
   ],
   "source": [
    "import torch\n",
    "import torch.nn as nn\n",
    "from torch.nn import functional as F\n",
    "torch.manual_seed(1337)\n",
    "\n",
    "class BigramLanguageModel(nn.Module):\n",
    "\n",
    "    def __init__(self, vocab_size):\n",
    "        super().__init__()\n",
    "        # each token directly reads off the logits for the next token from a lookup table\n",
    "        self.token_embedding_table = nn.Embedding(vocab_size, vocab_size)\n",
    "\n",
    "    def forward(self, idx, targets=None):\n",
    "\n",
    "        # idx and targets are both (B,T) tensor of integers\n",
    "        logits = self.token_embedding_table(idx) # (B,T,C)\n",
    "\n",
    "        if targets is None:\n",
    "            loss = None\n",
    "        else:\n",
    "            B, T, C = logits.shape\n",
    "            logits = logits.view(B*T, C)\n",
    "            targets = targets.view(B*T)\n",
    "            loss = F.cross_entropy(logits, targets)\n",
    "\n",
    "        return logits, loss\n",
    "\n",
    "    def generate(self, idx, max_new_tokens):\n",
    "        # idx is (B, T) array of indices in the current context\n",
    "        for _ in range(max_new_tokens):\n",
    "            # get the predictions\n",
    "            logits, loss = self(idx)\n",
    "            # focus only on the last time step\n",
    "            logits = logits[:, -1, :] # becomes (B, C)\n",
    "            # apply softmax to get probabilities\n",
    "            probs = F.softmax(logits, dim=-1) # (B, C)\n",
    "            # sample from the distribution\n",
    "            idx_next = torch.multinomial(probs, num_samples=1) # (B, 1)\n",
    "            # append sampled index to the running sequence\n",
    "            idx = torch.cat((idx, idx_next), dim=1) # (B, T+1)\n",
    "        return idx\n",
    "\n",
    "m = BigramLanguageModel(vocab_size)\n",
    "logits, loss = m(xb, yb)\n",
    "print(logits.shape)\n",
    "print(loss)\n",
    "\n",
    "print(decode(m.generate(idx = torch.zeros((1, 1), dtype=torch.long), max_new_tokens=100)[0].tolist()))"
   ]
  },
  {
   "cell_type": "code",
   "execution_count": 13,
   "metadata": {},
   "outputs": [],
   "source": [
    "# create a PyTorch optimizer\n",
    "optimizer = torch.optim.AdamW(m.parameters(), lr=1e-3)"
   ]
  },
  {
   "cell_type": "code",
   "execution_count": 14,
   "metadata": {},
   "outputs": [
    {
     "name": "stdout",
     "output_type": "stream",
     "text": [
      "4.761895656585693\n"
     ]
    }
   ],
   "source": [
    "batch_size = 32\n",
    "for steps in range(100): # increase number of steps for good results...\n",
    "\n",
    "    # sample a batch of data\n",
    "    xb, yb = get_batch('train')\n",
    "\n",
    "    # evaluate the loss\n",
    "    logits, loss = m(xb, yb)\n",
    "    optimizer.zero_grad(set_to_none=True)\n",
    "    loss.backward()\n",
    "    optimizer.step()\n",
    "\n",
    "print(loss.item())"
   ]
  },
  {
   "cell_type": "code",
   "execution_count": 15,
   "metadata": {},
   "outputs": [
    {
     "name": "stdout",
     "output_type": "stream",
     "text": [
      "\n",
      "CG4<I$NNfotgS,3nBu:?y—i!'2w(epCP4yd::&F0Ka ?maqlaéTg/ktj'CC<E;JbA#ULc:hxcF/Q-W,C7\"HNIMcSBWoPb3!k!IV!>QN—9Ft—no:cC</K6('S;:—exzn2s,pbnm:IVk(nYMipk.a\n",
      "mROAyJm?'#IE uP(\"MRGiQIn!g1diz<a\"5QN/o9pgT3ALca\",i2ubcé3QkDw6z>cUt —j\"&!iCHhMRyH:—u9kS7yA'z8b—P9!lB7D6O)zLfD63!'VNIVs407é&5Ke8s8Fa'g3)O.QM$ei8$u3m\n",
      "44W',E6iTPQb<u.>p\n",
      "4Qh>cabv07g08KlazRGWlDUC<?N?L5YqéU;SM24-Gl'OUo9pKg9t:MRoé7TY,A:zxcsTéTl5OL#dc2Int >$s6toVnBKQi8EfN'\n",
      "tg3MKA0 9Fr.89lE;4$<YQjK6b$vBA8;:dGIGI6g(S59'U?3—#V.'\"HhtMac\"x\n",
      "asbzchcn)p$NdtgoQfsg3>é#\n"
     ]
    }
   ],
   "source": [
    "print(decode(m.generate(idx = torch.zeros((1, 1), dtype=torch.long), max_new_tokens=500)[0].tolist()))"
   ]
  },
  {
   "cell_type": "code",
   "execution_count": 16,
   "metadata": {},
   "outputs": [
    {
     "name": "stdout",
     "output_type": "stream",
     "text": [
      "a=\n",
      "tensor([[1.0000, 0.0000, 0.0000],\n",
      "        [0.5000, 0.5000, 0.0000],\n",
      "        [0.3333, 0.3333, 0.3333]])\n",
      "--\n",
      "b=\n",
      "tensor([[2., 7.],\n",
      "        [6., 4.],\n",
      "        [6., 5.]])\n",
      "--\n",
      "c=\n",
      "tensor([[2.0000, 7.0000],\n",
      "        [4.0000, 5.5000],\n",
      "        [4.6667, 5.3333]])\n"
     ]
    }
   ],
   "source": [
    "# toy example illustrating how matrix multiplication can be used for a \"weighted aggregation\"\n",
    "torch.manual_seed(42)\n",
    "a = torch.tril(torch.ones(3, 3))\n",
    "a = a / torch.sum(a, 1, keepdim=True)\n",
    "b = torch.randint(0,10,(3,2)).float()\n",
    "c = a @ b\n",
    "print('a=')\n",
    "print(a)\n",
    "print('--')\n",
    "print('b=')\n",
    "print(b)\n",
    "print('--')\n",
    "print('c=')\n",
    "print(c)"
   ]
  },
  {
   "cell_type": "code",
   "execution_count": 17,
   "metadata": {},
   "outputs": [
    {
     "data": {
      "text/plain": [
       "torch.Size([4, 8, 2])"
      ]
     },
     "execution_count": 17,
     "metadata": {},
     "output_type": "execute_result"
    }
   ],
   "source": [
    "# consider the following toy example:\n",
    "\n",
    "torch.manual_seed(1337)\n",
    "B,T,C = 4,8,2 # batch, time, channels\n",
    "x = torch.randn(B,T,C)\n",
    "x.shape"
   ]
  },
  {
   "cell_type": "code",
   "execution_count": 18,
   "metadata": {},
   "outputs": [],
   "source": [
    "# We want x[b,t] = mean_{i<=t} x[b,i]\n",
    "xbow = torch.zeros((B,T,C))\n",
    "for b in range(B):\n",
    "    for t in range(T):\n",
    "        xprev = x[b,:t+1] # (t,C)\n",
    "        xbow[b,t] = torch.mean(xprev, 0)\n"
   ]
  },
  {
   "cell_type": "code",
   "execution_count": 19,
   "metadata": {},
   "outputs": [
    {
     "data": {
      "text/plain": [
       "True"
      ]
     },
     "execution_count": 19,
     "metadata": {},
     "output_type": "execute_result"
    }
   ],
   "source": [
    "# version 2: using matrix multiply for a weighted aggregation\n",
    "wei = torch.tril(torch.ones(T, T))\n",
    "wei = wei / wei.sum(1, keepdim=True)\n",
    "xbow2 = wei @ x # (B, T, T) @ (B, T, C) ----> (B, T, C)\n",
    "torch.allclose(xbow, xbow2)"
   ]
  },
  {
   "cell_type": "code",
   "execution_count": 20,
   "metadata": {},
   "outputs": [
    {
     "data": {
      "text/plain": [
       "True"
      ]
     },
     "execution_count": 20,
     "metadata": {},
     "output_type": "execute_result"
    }
   ],
   "source": [
    "# version 3: use Softmax\n",
    "tril = torch.tril(torch.ones(T, T))\n",
    "wei = torch.zeros((T,T))\n",
    "wei = wei.masked_fill(tril == 0, float('-inf'))\n",
    "wei = F.softmax(wei, dim=-1)\n",
    "xbow3 = wei @ x\n",
    "torch.allclose(xbow, xbow3)"
   ]
  },
  {
   "cell_type": "code",
   "execution_count": 21,
   "metadata": {},
   "outputs": [
    {
     "data": {
      "text/plain": [
       "torch.Size([4, 8, 16])"
      ]
     },
     "execution_count": 21,
     "metadata": {},
     "output_type": "execute_result"
    }
   ],
   "source": [
    "# version 4: self-attention!\n",
    "torch.manual_seed(1337)\n",
    "B,T,C = 4,8,32 # batch, time, channels\n",
    "x = torch.randn(B,T,C)\n",
    "\n",
    "# let's see a single Head perform self-attention\n",
    "head_size = 16\n",
    "key = nn.Linear(C, head_size, bias=False)\n",
    "query = nn.Linear(C, head_size, bias=False)\n",
    "value = nn.Linear(C, head_size, bias=False)\n",
    "k = key(x)   # (B, T, 16)\n",
    "q = query(x) # (B, T, 16)\n",
    "wei =  q @ k.transpose(-2, -1) # (B, T, 16) @ (B, 16, T) ---> (B, T, T)\n",
    "\n",
    "tril = torch.tril(torch.ones(T, T))\n",
    "#wei = torch.zeros((T,T))\n",
    "wei = wei.masked_fill(tril == 0, float('-inf'))\n",
    "wei = F.softmax(wei, dim=-1)\n",
    "\n",
    "v = value(x)\n",
    "out = wei @ v\n",
    "#out = wei @ x\n",
    "\n",
    "out.shape"
   ]
  },
  {
   "cell_type": "code",
   "execution_count": 22,
   "metadata": {},
   "outputs": [
    {
     "data": {
      "text/plain": [
       "tensor([[1.0000, 0.0000, 0.0000, 0.0000, 0.0000, 0.0000, 0.0000, 0.0000],\n",
       "        [0.1574, 0.8426, 0.0000, 0.0000, 0.0000, 0.0000, 0.0000, 0.0000],\n",
       "        [0.2088, 0.1646, 0.6266, 0.0000, 0.0000, 0.0000, 0.0000, 0.0000],\n",
       "        [0.5792, 0.1187, 0.1889, 0.1131, 0.0000, 0.0000, 0.0000, 0.0000],\n",
       "        [0.0294, 0.1052, 0.0469, 0.0276, 0.7909, 0.0000, 0.0000, 0.0000],\n",
       "        [0.0176, 0.2689, 0.0215, 0.0089, 0.6812, 0.0019, 0.0000, 0.0000],\n",
       "        [0.1691, 0.4066, 0.0438, 0.0416, 0.1048, 0.2012, 0.0329, 0.0000],\n",
       "        [0.0210, 0.0843, 0.0555, 0.2297, 0.0573, 0.0709, 0.2423, 0.2391]],\n",
       "       grad_fn=<SelectBackward0>)"
      ]
     },
     "execution_count": 22,
     "metadata": {},
     "output_type": "execute_result"
    }
   ],
   "source": [
    "wei[0]"
   ]
  },
  {
   "cell_type": "markdown",
   "metadata": {},
   "source": [
    "Notes:\n",
    "\n",
    "Attention is a communication mechanism. Can be seen as nodes in a directed graph looking at each other and aggregating information with a weighted sum from all nodes that point to them, with data-dependent weights.\n",
    "There is no notion of space. Attention simply acts over a set of vectors. This is why we need to positionally encode tokens.\n",
    "Each example across batch dimension is of course processed completely independently and never \"talk\" to each other\n",
    "In an \"encoder\" attention block just delete the single line that does masking with tril, allowing all tokens to communicate. This block here is called a \"decoder\" attention block because it has triangular masking, and is usually used in autoregressive settings, like language modeling.\n",
    "\"self-attention\" just means that the keys and values are produced from the same source as queries. In \"cross-attention\", the queries still get produced from x, but the keys and values come from some other, external source (e.g. an encoder module)\n",
    "\"Scaled\" attention additional divides wei by 1/sqrt(head_size). This makes it so when input Q,K are unit variance, wei will be unit variance too and Softmax will stay diffuse and not saturate too much. Illustration below"
   ]
  },
  {
   "cell_type": "code",
   "execution_count": 23,
   "metadata": {},
   "outputs": [],
   "source": [
    "k = torch.randn(B,T,head_size)\n",
    "q = torch.randn(B,T,head_size)\n",
    "wei = q @ k.transpose(-2, -1) * head_size**-0.5"
   ]
  },
  {
   "cell_type": "code",
   "execution_count": 24,
   "metadata": {},
   "outputs": [
    {
     "data": {
      "text/plain": [
       "torch.Size([32, 100])"
      ]
     },
     "execution_count": 24,
     "metadata": {},
     "output_type": "execute_result"
    }
   ],
   "source": [
    "class LayerNorm1d: # (used to be BatchNorm1d)\n",
    "\n",
    "  def __init__(self, dim, eps=1e-5, momentum=0.1):\n",
    "    self.eps = eps\n",
    "    self.gamma = torch.ones(dim)\n",
    "    self.beta = torch.zeros(dim)\n",
    "\n",
    "  def __call__(self, x):\n",
    "    # calculate the forward pass\n",
    "    xmean = x.mean(1, keepdim=True) # batch mean\n",
    "    xvar = x.var(1, keepdim=True) # batch variance\n",
    "    xhat = (x - xmean) / torch.sqrt(xvar + self.eps) # normalize to unit variance\n",
    "    self.out = self.gamma * xhat + self.beta\n",
    "    return self.out\n",
    "\n",
    "  def parameters(self):\n",
    "    return [self.gamma, self.beta]\n",
    "\n",
    "torch.manual_seed(1337)\n",
    "module = LayerNorm1d(100)\n",
    "x = torch.randn(32, 100) # batch size 32 of 100-dimensional vectors\n",
    "x = module(x)\n",
    "x.shape"
   ]
  },
  {
   "cell_type": "markdown",
   "metadata": {},
   "source": [
    "### Full Code"
   ]
  },
  {
   "cell_type": "code",
   "execution_count": 27,
   "metadata": {},
   "outputs": [
    {
     "name": "stdout",
     "output_type": "stream",
     "text": [
      "0.217211 M parameters\n",
      "step 0: train loss 5.0877, val loss 5.0711\n",
      "step 100: train loss 2.7304, val loss 2.9814\n",
      "step 200: train loss 2.5994, val loss 2.8418\n",
      "step 300: train loss 2.5396, val loss 2.7103\n",
      "step 400: train loss 2.4711, val loss 2.6340\n",
      "step 500: train loss 2.4228, val loss 2.5809\n",
      "step 600: train loss 2.3792, val loss 2.5318\n",
      "step 700: train loss 2.3200, val loss 2.4655\n",
      "step 800: train loss 2.2702, val loss 2.4315\n",
      "step 900: train loss 2.2168, val loss 2.3819\n",
      "step 1000: train loss 2.1898, val loss 2.3405\n",
      "step 1100: train loss 2.1615, val loss 2.3137\n",
      "step 1200: train loss 2.1130, val loss 2.2973\n",
      "step 1300: train loss 2.0853, val loss 2.2626\n",
      "step 1400: train loss 2.0716, val loss 2.2513\n",
      "step 1500: train loss 2.0475, val loss 2.2196\n",
      "step 1600: train loss 2.0185, val loss 2.1983\n",
      "step 1700: train loss 1.9954, val loss 2.1880\n",
      "step 1800: train loss 1.9825, val loss 2.1610\n",
      "step 1900: train loss 1.9577, val loss 2.1578\n",
      "step 2000: train loss 1.9442, val loss 2.1327\n",
      "step 2100: train loss 1.9299, val loss 2.1228\n",
      "step 2200: train loss 1.9127, val loss 2.1175\n",
      "step 2300: train loss 1.8997, val loss 2.1018\n",
      "step 2400: train loss 1.8883, val loss 2.0814\n",
      "step 2500: train loss 1.8953, val loss 2.0852\n",
      "step 2600: train loss 1.8566, val loss 2.0505\n",
      "step 2700: train loss 1.8530, val loss 2.0356\n",
      "step 2800: train loss 1.8399, val loss 2.0359\n",
      "step 2900: train loss 1.8294, val loss 2.0233\n",
      "step 3000: train loss 1.8158, val loss 2.0199\n",
      "step 3100: train loss 1.8166, val loss 1.9977\n",
      "step 3200: train loss 1.8121, val loss 1.9949\n",
      "step 3300: train loss 1.8001, val loss 1.9838\n",
      "step 3400: train loss 1.7758, val loss 1.9705\n",
      "step 3500: train loss 1.7699, val loss 1.9574\n",
      "step 3600: train loss 1.7724, val loss 1.9686\n",
      "step 3700: train loss 1.7599, val loss 1.9648\n",
      "step 3800: train loss 1.7382, val loss 1.9356\n",
      "step 3900: train loss 1.7320, val loss 1.9541\n",
      "step 4000: train loss 1.7441, val loss 1.9517\n",
      "step 4100: train loss 1.7538, val loss 1.9295\n",
      "step 4200: train loss 1.7257, val loss 1.9735\n",
      "step 4300: train loss 1.7115, val loss 1.9423\n",
      "step 4400: train loss 1.7189, val loss 1.9100\n",
      "step 4500: train loss 1.7247, val loss 1.9444\n",
      "step 4600: train loss 1.7119, val loss 1.9218\n",
      "step 4700: train loss 1.6982, val loss 1.9205\n",
      "step 4800: train loss 1.7051, val loss 1.9151\n",
      "step 4900: train loss 1.6988, val loss 1.9044\n",
      "step 4999: train loss 1.6916, val loss 1.8885\n"
     ]
    }
   ],
   "source": [
    "import torch\n",
    "import torch.nn as nn\n",
    "from torch.nn import functional as F\n",
    "\n",
    "# hyperparameters\n",
    "batch_size = 16 # how many independent sequences will we process in parallel?\n",
    "block_size = 32 # what is the maximum context length for predictions?\n",
    "max_iters = 5000\n",
    "eval_interval = 100\n",
    "learning_rate = 1e-3\n",
    "device = 'mps' # 'cuda' if torch.cuda.is_available() else 'cpu'\n",
    "eval_iters = 200\n",
    "n_embd = 64\n",
    "n_head = 4\n",
    "n_layer = 4\n",
    "dropout = 0.0\n",
    "# ------------\n",
    "\n",
    "torch.manual_seed(1337)\n",
    "\n",
    "# wget https://raw.githubusercontent.com/karpathy/char-rnn/master/data/tinyshakespeare/input.txt\n",
    "with open('data/DoE_all.txt', 'r', encoding='utf-8') as f:\n",
    "    text = f.read()\n",
    "\n",
    "# here are all the unique characters that occur in this text\n",
    "chars = sorted(list(set(text)))\n",
    "vocab_size = len(chars)\n",
    "# create a mapping from characters to integers\n",
    "stoi = { ch:i for i,ch in enumerate(chars) }\n",
    "itos = { i:ch for i,ch in enumerate(chars) }\n",
    "encode = lambda s: [stoi[c] for c in s] # encoder: take a string, output a list of integers\n",
    "decode = lambda l: ''.join([itos[i] for i in l]) # decoder: take a list of integers, output a string\n",
    "\n",
    "# Train and test splits\n",
    "data = torch.tensor(encode(text), dtype=torch.long)\n",
    "n = int(0.9*len(data)) # first 90% will be train, rest val\n",
    "train_data = data[:n]\n",
    "val_data = data[n:]\n",
    "\n",
    "# data loading\n",
    "def get_batch(split):\n",
    "    # generate a small batch of data of inputs x and targets y\n",
    "    data = train_data if split == 'train' else val_data\n",
    "    ix = torch.randint(len(data) - block_size, (batch_size,))\n",
    "    x = torch.stack([data[i:i+block_size] for i in ix])\n",
    "    y = torch.stack([data[i+1:i+block_size+1] for i in ix])\n",
    "    x, y = x.to(device), y.to(device)\n",
    "    return x, y\n",
    "\n",
    "@torch.no_grad()\n",
    "def estimate_loss():\n",
    "    out = {}\n",
    "    model.eval()\n",
    "    for split in ['train', 'val']:\n",
    "        losses = torch.zeros(eval_iters)\n",
    "        for k in range(eval_iters):\n",
    "            X, Y = get_batch(split)\n",
    "            logits, loss = model(X, Y)\n",
    "            losses[k] = loss.item()\n",
    "        out[split] = losses.mean()\n",
    "    model.train()\n",
    "    return out\n",
    "\n",
    "class Head(nn.Module):\n",
    "    \"\"\" one head of self-attention \"\"\"\n",
    "\n",
    "    def __init__(self, head_size):\n",
    "        super().__init__()\n",
    "        self.key = nn.Linear(n_embd, head_size, bias=False)\n",
    "        self.query = nn.Linear(n_embd, head_size, bias=False)\n",
    "        self.value = nn.Linear(n_embd, head_size, bias=False)\n",
    "        self.register_buffer('tril', torch.tril(torch.ones(block_size, block_size)))\n",
    "\n",
    "        self.dropout = nn.Dropout(dropout)\n",
    "\n",
    "    def forward(self, x):\n",
    "        B,T,C = x.shape\n",
    "        k = self.key(x)   # (B,T,C)\n",
    "        q = self.query(x) # (B,T,C)\n",
    "        # compute attention scores (\"affinities\")\n",
    "        wei = q @ k.transpose(-2,-1) * C**-0.5 # (B, T, C) @ (B, C, T) -> (B, T, T)\n",
    "        wei = wei.masked_fill(self.tril[:T, :T] == 0, float('-inf')) # (B, T, T)\n",
    "        wei = F.softmax(wei, dim=-1) # (B, T, T)\n",
    "        wei = self.dropout(wei)\n",
    "        # perform the weighted aggregation of the values\n",
    "        v = self.value(x) # (B,T,C)\n",
    "        out = wei @ v # (B, T, T) @ (B, T, C) -> (B, T, C)\n",
    "        return out\n",
    "\n",
    "class MultiHeadAttention(nn.Module):\n",
    "    \"\"\" multiple heads of self-attention in parallel \"\"\"\n",
    "\n",
    "    def __init__(self, num_heads, head_size):\n",
    "        super().__init__()\n",
    "        self.heads = nn.ModuleList([Head(head_size) for _ in range(num_heads)])\n",
    "        self.proj = nn.Linear(n_embd, n_embd)\n",
    "        self.dropout = nn.Dropout(dropout)\n",
    "\n",
    "    def forward(self, x):\n",
    "        out = torch.cat([h(x) for h in self.heads], dim=-1)\n",
    "        out = self.dropout(self.proj(out))\n",
    "        return out\n",
    "\n",
    "class FeedFoward(nn.Module):\n",
    "    \"\"\" a simple linear layer followed by a non-linearity \"\"\"\n",
    "\n",
    "    def __init__(self, n_embd):\n",
    "        super().__init__()\n",
    "        self.net = nn.Sequential(\n",
    "            nn.Linear(n_embd, 4 * n_embd),\n",
    "            nn.ReLU(),\n",
    "            nn.Linear(4 * n_embd, n_embd),\n",
    "            nn.Dropout(dropout),\n",
    "        )\n",
    "\n",
    "    def forward(self, x):\n",
    "        return self.net(x)\n",
    "\n",
    "class Block(nn.Module):\n",
    "    \"\"\" Transformer block: communication followed by computation \"\"\"\n",
    "\n",
    "    def __init__(self, n_embd, n_head):\n",
    "        # n_embd: embedding dimension, n_head: the number of heads we'd like\n",
    "        super().__init__()\n",
    "        head_size = n_embd // n_head\n",
    "        self.sa = MultiHeadAttention(n_head, head_size)\n",
    "        self.ffwd = FeedFoward(n_embd)\n",
    "        self.ln1 = nn.LayerNorm(n_embd)\n",
    "        self.ln2 = nn.LayerNorm(n_embd)\n",
    "\n",
    "    def forward(self, x):\n",
    "        x = x + self.sa(self.ln1(x))\n",
    "        x = x + self.ffwd(self.ln2(x))\n",
    "        return x\n",
    "\n",
    "# super simple bigram model\n",
    "class BigramLanguageModel(nn.Module):\n",
    "\n",
    "    def __init__(self):\n",
    "        super().__init__()\n",
    "        # each token directly reads off the logits for the next token from a lookup table\n",
    "        self.token_embedding_table = nn.Embedding(vocab_size, n_embd)\n",
    "        self.position_embedding_table = nn.Embedding(block_size, n_embd)\n",
    "        self.blocks = nn.Sequential(*[Block(n_embd, n_head=n_head) for _ in range(n_layer)])\n",
    "        self.ln_f = nn.LayerNorm(n_embd) # final layer norm\n",
    "        self.lm_head = nn.Linear(n_embd, vocab_size)\n",
    "\n",
    "    def forward(self, idx, targets=None):\n",
    "        B, T = idx.shape\n",
    "\n",
    "        # idx and targets are both (B,T) tensor of integers\n",
    "        tok_emb = self.token_embedding_table(idx) # (B,T,C)\n",
    "        pos_emb = self.position_embedding_table(torch.arange(T, device=device)) # (T,C)\n",
    "        x = tok_emb + pos_emb # (B,T,C)\n",
    "        x = self.blocks(x) # (B,T,C)\n",
    "        x = self.ln_f(x) # (B,T,C)\n",
    "        logits = self.lm_head(x) # (B,T,vocab_size)\n",
    "\n",
    "        if targets is None:\n",
    "            loss = None\n",
    "        else:\n",
    "            B, T, C = logits.shape\n",
    "            logits = logits.view(B*T, C)\n",
    "            targets = targets.view(B*T)\n",
    "            loss = F.cross_entropy(logits, targets)\n",
    "\n",
    "        return logits, loss\n",
    "\n",
    "    def generate(self, idx, max_new_tokens):\n",
    "        # idx is (B, T) array of indices in the current context\n",
    "        for _ in range(max_new_tokens):\n",
    "            # crop idx to the last block_size tokens\n",
    "            idx_cond = idx[:, -block_size:]\n",
    "            # get the predictions\n",
    "            logits, loss = self(idx_cond)\n",
    "            # focus only on the last time step\n",
    "            logits = logits[:, -1, :] # becomes (B, C)\n",
    "            # apply softmax to get probabilities\n",
    "            probs = F.softmax(logits, dim=-1) # (B, C)\n",
    "            # sample from the distribution\n",
    "            idx_next = torch.multinomial(probs, num_samples=1) # (B, 1)\n",
    "            # append sampled index to the running sequence\n",
    "            idx = torch.cat((idx, idx_next), dim=1) # (B, T+1)\n",
    "        return idx\n",
    "\n",
    "model = BigramLanguageModel()\n",
    "m = model.to(device)\n",
    "# print the number of parameters in the model\n",
    "print(sum(p.numel() for p in m.parameters())/1e6, 'M parameters')\n",
    "\n",
    "# create a PyTorch optimizer\n",
    "optimizer = torch.optim.AdamW(model.parameters(), lr=learning_rate)\n",
    "\n",
    "for iter in range(max_iters):\n",
    "\n",
    "    # every once in a while evaluate the loss on train and val sets\n",
    "    if iter % eval_interval == 0 or iter == max_iters - 1:\n",
    "        losses = estimate_loss()\n",
    "        print(f\"step {iter}: train loss {losses['train']:.4f}, val loss {losses['val']:.4f}\")\n",
    "\n",
    "    # sample a batch of data\n",
    "    xb, yb = get_batch('train')\n",
    "\n",
    "    # evaluate the loss\n",
    "    logits, loss = model(xb, yb)\n",
    "    optimizer.zero_grad(set_to_none=True)\n",
    "    loss.backward()\n",
    "    optimizer.step()"
   ]
  },
  {
   "cell_type": "code",
   "execution_count": 28,
   "metadata": {},
   "outputs": [
    {
     "name": "stdout",
     "output_type": "stream",
     "text": [
      "\n",
      "It existerapical societies agained in\n",
      "the temble state oring\n",
      "banded for at Lesociate andshes for the Dreamage breason sometimes to leigity evences acclose of\n",
      "suchtingly Coanistrated the fect if wands trading role have publishouses, the of intennerally as to migcts only ]usarch many . Are to\n",
      "recocological dislations within; it’ s s\n",
      "crite freet oraighic and Jack, somerher\n",
      "stecond\n",
      "historic epileto-state lobsomuinative and so some that time, ese femonel; sites an in the acceptic; alwhed the formal cless ocies becominal societies\n",
      "ﬁrdindary difpicte senfrourced outservacilists’.45 In tisto are concents this cain (if freelood don ﬁrst\n",
      "niving itaso lar ge is that ave of uper kind all soe ofthos fov were dif then, are something as prence, aceors of foragizic showseleded, in the wooging that is than peops’ J0000 Jäends ( to be\n",
      "scond of European steptrued weremedicated.\n",
      "Hawlds are Archanined at in\n",
      "Jatheles warrang rangem\n",
      "teconould at matered from ‘or anireatones – they women Canque clear , enso Man EuCIDE .\n",
      "Thim clears this ‘nearably prict coulation oraging pherepess inage distigned third critiviable suniseple pirtlage where imaghne for\n",
      "societies city grappess the taill areat by earably led is to althine\n",
      "often roughurly lonasteon this a foundsconds at the really too downingen us more sthight\n",
      "an was are for living theirrated to disfrom rilinds, for more undered in Hrabrity:\n",
      "in the insitedonal domatic one adopolitities of flonge prite assimiling toousaral ﬂiet. Other\n",
      ", brath nothile that he to imet worchaeological to\n",
      "saquen that European that a centuries centarie. T Suic richnuates chemetane. Hes). T Akmented is mavies from the world’ s oeoplogene? The do governe on cit of\n",
      "the creathed obbution as the Panity 19950s:\n",
      "sharaces to ‘connecentions and buried\n",
      "fromorsthed for basn cometimes. Oritual speast that how condement forages in constexpreted, would envented out to at the induststurved had wey are to smast\n",
      "agricultive resoveded auraging peits ageing whathers Soutions,\n",
      "note about\n"
     ]
    }
   ],
   "source": [
    "# generate from the model\n",
    "context = torch.zeros((1, 1), dtype=torch.long, device=device)\n",
    "print(decode(m.generate(context, max_new_tokens=2000)[0].tolist()))"
   ]
  },
  {
   "cell_type": "code",
   "execution_count": null,
   "metadata": {},
   "outputs": [],
   "source": []
  }
 ],
 "metadata": {
  "kernelspec": {
   "display_name": "buk",
   "language": "python",
   "name": "python3"
  },
  "language_info": {
   "codemirror_mode": {
    "name": "ipython",
    "version": 3
   },
   "file_extension": ".py",
   "mimetype": "text/x-python",
   "name": "python",
   "nbconvert_exporter": "python",
   "pygments_lexer": "ipython3",
   "version": "3.9.18"
  }
 },
 "nbformat": 4,
 "nbformat_minor": 2
}

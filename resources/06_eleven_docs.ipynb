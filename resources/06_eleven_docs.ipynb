{
 "cells": [
  {
   "cell_type": "markdown",
   "metadata": {},
   "source": [
    "[https://python.langchain.com/docs/integrations/tools/eleven_labs_tts#usage]"
   ]
  },
  {
   "cell_type": "code",
   "execution_count": null,
   "metadata": {},
   "outputs": [],
   "source": [
    "import os\n",
    "from dotenv import load_dotenv\n",
    "\n",
    "from elevenlabs import set_api_key\n",
    "\n",
    "# Load the .env file\n",
    "load_dotenv()\n",
    "\n",
    "ELEVEN_API_KEY = os.getenv(\"ELEVEN_API_KEY\")\n",
    "set_api_key(ELEVEN_API_KEY)\n",
    "\n",
    "import elevenlabs as el\n"
   ]
  },
  {
   "cell_type": "markdown",
   "metadata": {},
   "source": [
    "### Checks"
   ]
  },
  {
   "cell_type": "code",
   "execution_count": null,
   "metadata": {},
   "outputs": [],
   "source": [
    "from elevenlabs import get_api_key\n",
    "print (get_api_key())"
   ]
  },
  {
   "cell_type": "code",
   "execution_count": null,
   "metadata": {},
   "outputs": [],
   "source": [
    "from elevenlabs.api import Models\n",
    "models = Models.from_api()\n",
    "for model in models:\n",
    "    print(model)"
   ]
  },
  {
   "cell_type": "code",
   "execution_count": null,
   "metadata": {},
   "outputs": [],
   "source": [
    "from elevenlabs.api import Voices\n",
    "voices = Voices.from_api()\n",
    "for voice in voices:\n",
    "    print(voice)\n"
   ]
  },
  {
   "cell_type": "code",
   "execution_count": null,
   "metadata": {},
   "outputs": [],
   "source": [
    "from elevenlabs.api import History\n",
    "history = History.from_api()\n",
    "print(history)\n"
   ]
  },
  {
   "cell_type": "markdown",
   "metadata": {},
   "source": [
    "### Settings"
   ]
  },
  {
   "cell_type": "code",
   "execution_count": null,
   "metadata": {},
   "outputs": [],
   "source": [
    "from elevenlabs import VoiceSettings, generate, play\n",
    "\n",
    "# settings = VoiceSettings()  # Adjust the speaking rate to your desired speed\n",
    "audio = generate(\"Your text here\")\n",
    "play(audio)"
   ]
  },
  {
   "cell_type": "markdown",
   "metadata": {},
   "source": [
    "### Generate"
   ]
  },
  {
   "cell_type": "code",
   "execution_count": null,
   "metadata": {},
   "outputs": [],
   "source": [
    "from elevenlabs import generate\n",
    "\n",
    "el.generate(\n",
    "    text: str,\n",
    "    api_key: Optional[str] = None,                      # Defautls to env variable ELEVEN_API_KEY, or None if not set but quota will be limited\n",
    "    voice: Union[str, Voice] = \"Bella\",                 # Either a voice name, voice_id, or Voice object (use voice object to control stability and similarity_boost)\n",
    "    model: Union[str, Model] = \"eleven_monolingual_v1\", # Either a model name or Model object\n",
    "    stream: bool = False,                               # If True, returns a generator streaming bytes\n",
    "    stream_chunk_size: int = 2048,                      # Size of each chunk when stream=True\n",
    "    latency: int = 1                                    # [1-4] the higher the more optimized for streaming latency (only works with stream=True)\n",
    "    output_format: str = \"mp3_44100_128\",               # The output format: mp3_44100_[64,96,128,192], pcm_[16000,22050,24000,44100], ulaw_8000\n",
    ") -> Union[bytes, Iterator[bytes]]"
   ]
  },
  {
   "cell_type": "code",
   "execution_count": null,
   "metadata": {},
   "outputs": [],
   "source": [
    "\n",
    "\n",
    "text=\"\"\"\n",
    "### Response:\n",
    "The development of Artificial Intelligence (AI) stands at the forefront of expanding our understanding of human consciousness, intertwining with both the scientific and philosophical domains. This interconnection fosters a multifaceted exploration, addressing theoretical foundations and practical implications. Here's an examination of how AI advancements could potentially influence our grasp of consciousness:\n",
    "\"\"\"\n",
    "\n",
    "audio = el.generate(\n",
    "  text=text,\n",
    "  voice=\"Josh\",\n",
    "  stream=False,\n",
    "  model=\"eleven_turbo_v2\"\n",
    ")\n",
    "# el.stream(audio)\n",
    "# el.play(audio)\n",
    "el.save(audio, \"audio.mp3\")\n"
   ]
  },
  {
   "cell_type": "markdown",
   "metadata": {},
   "source": [
    "### Speed it up"
   ]
  },
  {
   "cell_type": "code",
   "execution_count": null,
   "metadata": {},
   "outputs": [],
   "source": [
    "import soundfile as sf\n",
    "import pyrubberband as pyrb\n",
    "\n",
    "# Load the original audio\n",
    "original_audio, sample_rate = sf.read(\"audio.mp3\")\n",
    "\n",
    "# Define the speedup factor (e.g., 1.5 for 1.5x speed)\n",
    "speedup_factor = 1.75\n",
    "\n",
    "# Speed up the audio using pyrubberband\n",
    "speeded_up_audio = pyrb.time_stretch(original_audio, sample_rate, speedup_factor)\n",
    "\n",
    "sf.write(\"speeded_up_audio.wav\", speeded_up_audio, sample_rate)\n",
    "Audio(speeded_up_audio, rate=sample_rate)\n",
    "# Save the speeded-up audio to a new file\n",
    "\n"
   ]
  },
  {
   "cell_type": "markdown",
   "metadata": {},
   "source": [
    "### CLONE"
   ]
  },
  {
   "cell_type": "code",
   "execution_count": null,
   "metadata": {},
   "outputs": [],
   "source": [
    "from elevenlabs import clone, generate, play\n",
    "\n",
    "voice = clone(\n",
    "    name=\"Alex\",\n",
    "    description=\"An old American male voice with a slight hoarseness in his throat. Perfect for news\", # Optional\n",
    "    files=[\"./sample_0.mp3\", \"./sample_1.mp3\", \"./sample_2.mp3\"],\n",
    ")\n",
    "\n",
    "audio = generate(text=\"Hi! I'm a cloned voice!\", voice=voice)\n",
    "\n",
    "play(audio)"
   ]
  },
  {
   "cell_type": "markdown",
   "metadata": {},
   "source": [
    "### STREAM"
   ]
  },
  {
   "cell_type": "code",
   "execution_count": null,
   "metadata": {},
   "outputs": [],
   "source": [
    "from elevenlabs import generate, stream\n",
    "\n",
    "audio_stream = generate(\n",
    "  text=\"This is a... streaming voice!!\",\n",
    "  stream=True\n",
    ")\n",
    "\n",
    "stream(audio_stream)"
   ]
  },
  {
   "cell_type": "code",
   "execution_count": null,
   "metadata": {},
   "outputs": [],
   "source": [
    "from elevenlabs import generate, stream\n",
    "\n",
    "def text_stream():\n",
    "    yield \"Hi there, I'm Eleven \"\n",
    "    yield \"I'm a text to speech API \"\n",
    "\n",
    "audio_stream = generate(\n",
    "    text=text_stream(),\n",
    "    voice=\"Nicole\",\n",
    "    model=\"eleven_monolingual_v1\",\n",
    "    stream=True\n",
    ")\n",
    "\n",
    "stream(audio_stream)"
   ]
  },
  {
   "cell_type": "markdown",
   "metadata": {},
   "source": [
    "### TAILORED"
   ]
  },
  {
   "cell_type": "code",
   "execution_count": null,
   "metadata": {},
   "outputs": [],
   "source": [
    "from elevenlabs import Voice, VoiceDesign, Gender, Age, Accent, play\n",
    "\n",
    "# Build a voice deisgn object\n",
    "design = VoiceDesign(\n",
    "    name='Lexa',\n",
    "    text=\"Hello, my name is Lexa. I'm your personal assistant, I can help you with your daily tasks and I can also read you the news.\",\n",
    "    voice_description=\"Calm and soft with a slight British accent.\",\n",
    "    gender=Gender.female,\n",
    "    age=Age.young,\n",
    "    accent=Accent.british,\n",
    "    accent_strength=1.0,\n",
    ")\n",
    "\n",
    "# Generate audio from the design, and play it to test if it sounds good (optional)\n",
    "audio = design.generate()\n",
    "play(audio)\n",
    "\n",
    "# Convert design to usable voice\n",
    "voice = Voice.from_design(design)"
   ]
  }
 ],
 "metadata": {
  "kernelspec": {
   "display_name": "jarvis",
   "language": "python",
   "name": "python3"
  },
  "language_info": {
   "codemirror_mode": {
    "name": "ipython",
    "version": 3
   },
   "file_extension": ".py",
   "mimetype": "text/x-python",
   "name": "python",
   "nbconvert_exporter": "python",
   "pygments_lexer": "ipython3",
   "version": "3.8.18"
  }
 },
 "nbformat": 4,
 "nbformat_minor": 2
}

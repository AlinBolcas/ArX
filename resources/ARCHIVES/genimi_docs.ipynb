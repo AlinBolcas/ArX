{
 "cells": [
  {
   "cell_type": "code",
   "execution_count": null,
   "metadata": {},
   "outputs": [],
   "source": [
    "# pip install -q -U google-generativeai"
   ]
  },
  {
   "cell_type": "code",
   "execution_count": null,
   "metadata": {},
   "outputs": [],
   "source": [
    "import pathlib\n",
    "import textwrap\n",
    "\n",
    "import google.generativeai as genai\n",
    "\n",
    "# Used to securely store your API key\n",
    "# from google.colab import userdata\n",
    "\n",
    "from IPython.display import display\n",
    "from IPython.display import Markdown\n",
    "\n",
    "\n",
    "def to_markdown(text):\n",
    "  text = text.replace('•', '  *')\n",
    "  return Markdown(textwrap.indent(text, '> ', predicate=lambda _: True))"
   ]
  },
  {
   "cell_type": "code",
   "execution_count": null,
   "metadata": {},
   "outputs": [],
   "source": [
    "import os\n",
    "from dotenv import load_dotenv\n",
    "\n",
    "# Load the .env file\n",
    "load_dotenv()\n",
    "\n",
    "# Read the API key from the environment variable\n",
    "api_key = os.getenv(\"GOOGLE_API_KEY\")\n",
    "\n",
    "\n",
    "genai.configure(api_key=api_key)"
   ]
  },
  {
   "cell_type": "code",
   "execution_count": null,
   "metadata": {},
   "outputs": [],
   "source": [
    "for m in genai.list_models():\n",
    "  if 'generateContent' in m.supported_generation_methods:\n",
    "    print(m.name)"
   ]
  },
  {
   "cell_type": "code",
   "execution_count": null,
   "metadata": {},
   "outputs": [],
   "source": [
    "\n",
    "import vertexai\n",
    "from vertexai.preview.generative_models import GenerativeModel, Part\n",
    "\n",
    "\n",
    "model = genai.GenerativeModel('gemini-pro')\n",
    "%%time\n",
    "response = model.generate_content(\"What is the meaning of life?\")\n",
    "to_markdown(response.text)"
   ]
  },
  {
   "cell_type": "code",
   "execution_count": null,
   "metadata": {},
   "outputs": [],
   "source": [
    "import vertexai\n",
    "from vertexai.preview.generative_models import GenerativeModel, Image\n",
    "\n",
    "PROJECT_ID = \"art-references-395620\"\n",
    "REGION = \"us-central1\"\n",
    "vertexai.init(project=PROJECT_ID, location=REGION)\n",
    "\n",
    "# IMAGE_FILE = \"gs://generativeai-downloads/images/scones.jpg\"\n",
    "# image = Image.load_from_file(IMAGE_FILE)\n",
    "\n",
    "generative_multimodal_model = GenerativeModel(\"gemini-pro\")\n",
    "response = generative_multimodal_model.generate_content([\"What is your name?\"])\n",
    "\n",
    "print(response)"
   ]
  },
  {
   "cell_type": "code",
   "execution_count": null,
   "metadata": {},
   "outputs": [],
   "source": [
    "pip3 install --upgrade --user google-cloud-aiplatform\n",
    "gcloud auth application-default login"
   ]
  },
  {
   "cell_type": "code",
   "execution_count": null,
   "metadata": {},
   "outputs": [],
   "source": [
    "# TODO(developer): Vertex AI SDK - uncomment below & run\n",
    "pip3 install --upgrade --user google-cloud-aiplatform\n",
    "gcloud auth application-default login\n",
    "\n",
    "import vertexai\n",
    "from vertexai.preview.generative_models import GenerativeModel, Part\n",
    "\n",
    "\n",
    "def generate_text(project_id: str, location: str) -> str:\n",
    "    # Initialize Vertex AI\n",
    "    vertexai.init(project=project_id, location=location)\n",
    "    # Load the model\n",
    "    multimodal_model = GenerativeModel(\"gemini-pro-vision\")\n",
    "    # Query the model\n",
    "    response = multimodal_model.generate_content(\n",
    "        [\n",
    "            # Add an example image\n",
    "            Part.from_uri(\n",
    "                \"gs://generativeai-downloads/images/scones.jpg\", mime_type=\"image/jpeg\"\n",
    "            ),\n",
    "            # Add an example query\n",
    "            \"what is shown in this image?\",\n",
    "        ]\n",
    "    )\n",
    "    print(response)\n",
    "    return response.text\n"
   ]
  },
  {
   "cell_type": "code",
   "execution_count": null,
   "metadata": {},
   "outputs": [],
   "source": [
    "model = genai.GenerativeModel(model_name=\"gemini-pro-vision\")\n",
    "response = model.generate_content([\"What's in this photo?\", img])"
   ]
  },
  {
   "cell_type": "code",
   "execution_count": null,
   "metadata": {},
   "outputs": [],
   "source": [
    "def init_sample(\n",
    "    project: Optional[str] = None,\n",
    "    location: Optional[str] = None,\n",
    "    experiment: Optional[str] = None,\n",
    "    staging_bucket: Optional[str] = None,\n",
    "    credentials: Optional[auth_credentials.Credentials] = None,\n",
    "    encryption_spec_key_name: Optional[str] = None,\n",
    "    service_account: Optional[str] = None,\n",
    "):\n",
    "\n",
    "    from google.cloud import aiplatform\n",
    "\n",
    "    aiplatform.init(\n",
    "        project=project,\n",
    "        location=location,\n",
    "        experiment=experiment,\n",
    "        staging_bucket=staging_bucket,\n",
    "        credentials=credentials,\n",
    "        encryption_spec_key_name=encryption_spec_key_name,\n",
    "        service_account=service_account,\n",
    "    )\n"
   ]
  },
  {
   "cell_type": "code",
   "execution_count": null,
   "metadata": {},
   "outputs": [],
   "source": [
    "from google.cloud import aiplatform\n",
    "import vertexai.preview"
   ]
  },
  {
   "cell_type": "code",
   "execution_count": null,
   "metadata": {},
   "outputs": [],
   "source": [
    "from vertexai.preview.generative_models import GenerativeModel\n",
    "\n",
    "gemini_pro_model = GenerativeModel(\"gemini-pro\")\n",
    "model_response = gemini_pro_model.generate_content([\"What is x multiplied by 2?\", \"x = 42\"])\n",
    "print(\"model_response\\n\",model_response)"
   ]
  },
  {
   "cell_type": "code",
   "execution_count": null,
   "metadata": {},
   "outputs": [],
   "source": [
    "from vertexai.preview.generative_models import GenerativeModel\n",
    "\n",
    "# Load Gemini Pro\n",
    "gemini_pro_model = GenerativeModel(\"gemini-pro\")\n",
    "\n",
    "# Load Gemini Pro Vision\n",
    "gemini_pro_vision_model = GenerativeModel(\"gemini-pro-vision\")"
   ]
  },
  {
   "cell_type": "code",
   "execution_count": null,
   "metadata": {},
   "outputs": [],
   "source": [
    "import vertexai\n",
    "from vertexai.preview.generative_models import GenerativeModel, ChatSession\n",
    "\n",
    "# TODO(developer): Update and un-comment below lines\n",
    "project_id = \"art-references-395620\"\n",
    "location = \"us-central1\"\n",
    "vertexai.init(project=project_id, location=location)\n",
    "\n",
    "model = GenerativeModel(\"gemini-pro\")\n",
    "chat = model.start_chat()\n",
    "\n",
    "def get_chat_response(chat: ChatSession, prompt: str) -> str:\n",
    "    response = chat.send_message(prompt)\n",
    "    return response.text\n",
    "\n",
    "prompt = \"Hello.\"\n",
    "print(get_chat_response(chat, prompt))\n",
    "\n",
    "prompt = \"What are all the colors in a rainbow?\"\n",
    "print(get_chat_response(chat, prompt))\n",
    "\n",
    "prompt = \"Why does it appear when it rains?\"\n",
    "print(get_chat_response(chat, prompt))"
   ]
  },
  {
   "cell_type": "code",
   "execution_count": null,
   "metadata": {},
   "outputs": [],
   "source": []
  }
 ],
 "metadata": {
  "kernelspec": {
   "display_name": "LearningEnv",
   "language": "python",
   "name": "python3"
  },
  "language_info": {
   "codemirror_mode": {
    "name": "ipython",
    "version": 3
   },
   "file_extension": ".py",
   "mimetype": "text/x-python",
   "name": "python",
   "nbconvert_exporter": "python",
   "pygments_lexer": "ipython3",
   "version": "3.8.18"
  }
 },
 "nbformat": 4,
 "nbformat_minor": 2
}
